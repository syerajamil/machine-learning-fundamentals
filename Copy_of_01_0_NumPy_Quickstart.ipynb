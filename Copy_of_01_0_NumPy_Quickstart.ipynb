{
  "nbformat": 4,
  "nbformat_minor": 0,
  "metadata": {
    "kernelspec": {
      "display_name": "Python 3",
      "language": "python",
      "name": "python3"
    },
    "language_info": {
      "codemirror_mode": {
        "name": "ipython",
        "version": 3
      },
      "file_extension": ".py",
      "mimetype": "text/x-python",
      "name": "python",
      "nbconvert_exporter": "python",
      "pygments_lexer": "ipython3",
      "version": "3.8.3"
    },
    "colab": {
      "name": "Copy of 01-0_NumPy Quickstart.ipynb",
      "provenance": [],
      "include_colab_link": true
    }
  },
  "cells": [
    {
      "cell_type": "markdown",
      "metadata": {
        "id": "view-in-github",
        "colab_type": "text"
      },
      "source": [
        "<a href=\"https://colab.research.google.com/github/syerajamil/machine-learning-fundamentals/blob/master/Copy_of_01_0_NumPy_Quickstart.ipynb\" target=\"_parent\"><img src=\"https://colab.research.google.com/assets/colab-badge.svg\" alt=\"Open In Colab\"/></a>"
      ]
    },
    {
      "cell_type": "code",
      "metadata": {
        "deletable": false,
        "editable": false,
        "id": "CGzvbIOaq2Hy"
      },
      "source": [
        "# Copyright (c) 2019 Skymind AI Bhd.\n",
        "# Copyright (c) 2020 CertifAI Sdn. Bhd.\n",
        "#\n",
        "# This program and the accompanying materials are made available under the\n",
        "# terms of the Apache License, Version 2.0 which is available at\n",
        "# https://www.apache.org/licenses/LICENSE-2.0.\n",
        "# Unless required by applicable law or agreed to in writing, software\n",
        "# distributed under the License is distributed on an \"AS IS\" BASIS, WITHOUT\n",
        "# WARRANTIES OR CONDITIONS OF ANY KIND, either express or implied. See the\n",
        "# License for the specific language governing permissions and limitations\n",
        "# under the License.\n",
        "#\n",
        "# SPDX-License-Identifier: Apache-2.0"
      ],
      "execution_count": null,
      "outputs": []
    },
    {
      "cell_type": "markdown",
      "metadata": {
        "id": "3GGeCWt8q2H4"
      },
      "source": [
        "# NumPy Quickstart "
      ]
    },
    {
      "cell_type": "markdown",
      "metadata": {
        "id": "jsWmjgPvq2H6"
      },
      "source": [
        "We will use the **Numpy** module to create and apply mathematical operations on matrices."
      ]
    },
    {
      "cell_type": "code",
      "metadata": {
        "id": "X1qSfj1gq2H7"
      },
      "source": [
        "import numpy as np"
      ],
      "execution_count": null,
      "outputs": []
    },
    {
      "cell_type": "markdown",
      "metadata": {
        "id": "WJHKCL08q2H7"
      },
      "source": [
        "Create a simple array of integers"
      ]
    },
    {
      "cell_type": "code",
      "metadata": {
        "id": "fN7XnL0Uq2H8"
      },
      "source": [
        "array_1d = np.arange(0, 10)"
      ],
      "execution_count": null,
      "outputs": []
    },
    {
      "cell_type": "markdown",
      "metadata": {
        "id": "cT-ZwDvRq2H8"
      },
      "source": [
        "The function `arange` creates an array from `range(0,10)`. The `arange()` function is similar to that of Python's `range()`."
      ]
    },
    {
      "cell_type": "code",
      "metadata": {
        "id": "MoZqhTKjq2H9"
      },
      "source": [
        "array_1d"
      ],
      "execution_count": null,
      "outputs": []
    },
    {
      "cell_type": "markdown",
      "metadata": {
        "id": "A0MCeIv4q2H9"
      },
      "source": [
        "Create a $2\\times2$ matrix. (2-dimensional array)"
      ]
    },
    {
      "cell_type": "code",
      "metadata": {
        "id": "USZ8WwpAq2H-"
      },
      "source": [
        "array_2d = np.array([[1, 2], [3, 4]])"
      ],
      "execution_count": null,
      "outputs": []
    },
    {
      "cell_type": "code",
      "metadata": {
        "id": "K2xuy9Hwq2H-"
      },
      "source": [
        "array_2d"
      ],
      "execution_count": null,
      "outputs": []
    },
    {
      "cell_type": "markdown",
      "metadata": {
        "id": "_kmnC_MEq2H-"
      },
      "source": [
        "Create a $3\\times 3$ matrix."
      ]
    },
    {
      "cell_type": "code",
      "metadata": {
        "id": "jN83ZrRVq2H_"
      },
      "source": [
        "array_3x3 = np.array([[1, 2, 3], [4, 5, 6], [7, 8, 9]])"
      ],
      "execution_count": null,
      "outputs": []
    },
    {
      "cell_type": "code",
      "metadata": {
        "id": "IkelOqdsq2H_"
      },
      "source": [
        "array_3x3"
      ],
      "execution_count": null,
      "outputs": []
    },
    {
      "cell_type": "markdown",
      "metadata": {
        "id": "EWu7NLzXq2H_"
      },
      "source": [
        "Perform addition of two $3\\times 3$ matrices."
      ]
    },
    {
      "cell_type": "code",
      "metadata": {
        "id": "aFjMsidFq2IA"
      },
      "source": [
        "matrixA = np.array([[1, 1, 1], [1, 1, 1], [1, 1, 1]])\n",
        "matrixB = np.array([[1, 1, 1], [1, 1, 1], [1, 1, 1]])"
      ],
      "execution_count": null,
      "outputs": []
    },
    {
      "cell_type": "code",
      "metadata": {
        "id": "mH1eCBwNq2IA"
      },
      "source": [
        "print(np.add(matrixA,matrixB))"
      ],
      "execution_count": null,
      "outputs": []
    },
    {
      "cell_type": "markdown",
      "metadata": {
        "id": "1glofulMq2IB"
      },
      "source": [
        "Perform subtraction of two $3\\times 3$ matrices."
      ]
    },
    {
      "cell_type": "code",
      "metadata": {
        "id": "kRC-hOI-q2IB"
      },
      "source": [
        "matrixA = np.array([[2, 2, 2], [2, 2, 2], [2, 2, 2]])\n",
        "matrixB = np.array([[1, 1, 1], [1, 1, 1], [1, 1, 1]])"
      ],
      "execution_count": null,
      "outputs": []
    },
    {
      "cell_type": "code",
      "metadata": {
        "id": "F5ATcUBjq2IB"
      },
      "source": [
        "print(np.subtract(matrixA, matrixB))"
      ],
      "execution_count": null,
      "outputs": []
    },
    {
      "cell_type": "markdown",
      "metadata": {
        "id": "UAXIFMsmq2IB"
      },
      "source": [
        "Perform a Dot Product between 2 matrices.\n",
        "\n",
        "Remember the rule that the matrix product of a matrix $A$ of shape $m \\times n$ with a matrix $B$ of shape $n \\times o$ has shape $m \\times o$. "
      ]
    },
    {
      "cell_type": "code",
      "metadata": {
        "id": "_hBR3bQYq2IC"
      },
      "source": [
        "matrixA = np.array([[1, 1, 1], [1, 1, 1], [1, 1, 1]])\n",
        "matrixA"
      ],
      "execution_count": null,
      "outputs": []
    },
    {
      "cell_type": "code",
      "metadata": {
        "id": "o53fLUhLq2IC"
      },
      "source": [
        "matrixB = np.array([[1, 1], [1, 1], [1, 1]])\n",
        "matrixB"
      ],
      "execution_count": null,
      "outputs": []
    },
    {
      "cell_type": "code",
      "metadata": {
        "id": "WO0gDtSWq2IC"
      },
      "source": [
        "print(np.matmul(matrixA, matrixB))"
      ],
      "execution_count": null,
      "outputs": []
    },
    {
      "cell_type": "markdown",
      "metadata": {
        "id": "7ROBzLYYq2ID"
      },
      "source": [
        "The dot product of a $3\\times 3$ matrix with a $3\\times 2$ matric is a $3\\times 2$ matrix."
      ]
    },
    {
      "cell_type": "markdown",
      "metadata": {
        "id": "3K_9OtIsq2ID"
      },
      "source": [
        "Generate a $3\\times 3$ matrix with all zeros."
      ]
    },
    {
      "cell_type": "code",
      "metadata": {
        "scrolled": true,
        "id": "TsmQ8obXq2ID"
      },
      "source": [
        "zeros = np.zeros((3, 3))\n",
        "zeros"
      ],
      "execution_count": null,
      "outputs": []
    },
    {
      "cell_type": "markdown",
      "metadata": {
        "id": "VpsaCrPmq2IE"
      },
      "source": [
        "Generate a $3\\times 3$ matrix with all ones."
      ]
    },
    {
      "cell_type": "code",
      "metadata": {
        "scrolled": true,
        "id": "r7GCXJC3q2IE"
      },
      "source": [
        "ones = np.ones((3, 3))\n",
        "ones"
      ],
      "execution_count": null,
      "outputs": []
    },
    {
      "cell_type": "markdown",
      "metadata": {
        "id": "JG3mjEtSq2IE"
      },
      "source": [
        "Create a 3D tensor."
      ]
    },
    {
      "cell_type": "code",
      "metadata": {
        "id": "TgBrmNsqq2IF"
      },
      "source": [
        "tensor_3d = np.array([[[1, 1, 1, 1],\n",
        "                       [1, 1, 1, 1],\n",
        "                       [1, 1, 1, 1]],\n",
        "                      [[1, 1, 1, 1],\n",
        "                       [1, 1, 1, 1],\n",
        "                       [1, 1, 1, 1]]\n",
        "                     ])"
      ],
      "execution_count": null,
      "outputs": []
    },
    {
      "cell_type": "code",
      "metadata": {
        "scrolled": true,
        "id": "vyNoxMA5q2IG"
      },
      "source": [
        "tensor_3d"
      ],
      "execution_count": null,
      "outputs": []
    },
    {
      "cell_type": "code",
      "metadata": {
        "id": "3ICfrKk3q2IG"
      },
      "source": [
        "tensor_3d.shape"
      ],
      "execution_count": null,
      "outputs": []
    },
    {
      "cell_type": "markdown",
      "metadata": {
        "id": "QXD5KGCdq2IH"
      },
      "source": [
        "The shape of the tensor is described as **Width * Rows * Columns**."
      ]
    },
    {
      "cell_type": "markdown",
      "metadata": {
        "id": "HVaKlVwZq2IH"
      },
      "source": [
        "Below is an example of a 4-dimension tensor, or a tensor of `rank 4`."
      ]
    },
    {
      "cell_type": "code",
      "metadata": {
        "id": "6AYyWDTMq2IH"
      },
      "source": [
        "tensor_4 = np.array([[[[1,2,3,7],\n",
        "                       [1,3,5,0],\n",
        "                       [2,3,4,4]],\n",
        "                      [[2,3,4,6],\n",
        "                       [6,3,4,8],\n",
        "                       [4,6,0,7]]],\n",
        "                     [[[1,2,6,9],\n",
        "                       [2,3,4,3],\n",
        "                       [7,4,4,3]],\n",
        "                      [[2,6,4,3],\n",
        "                       [7,3,4,2],\n",
        "                       [8,5,6,8]]]])"
      ],
      "execution_count": null,
      "outputs": []
    },
    {
      "cell_type": "markdown",
      "metadata": {
        "id": "MqcLHZzCq2II"
      },
      "source": [
        "Using the `shape` attribute, we can see the magnitude of dimensions of said tensor.<br><br>\n",
        "A $n$-dimension tensor will display a number of $n$ magnitudes. We can also use `ndim` to show the rank(dimension) of the tensor."
      ]
    },
    {
      "cell_type": "code",
      "metadata": {
        "id": "h7sSzVRTq2II"
      },
      "source": [
        "print(tensor_4.shape)\n",
        "print(tensor_4.ndim)"
      ],
      "execution_count": null,
      "outputs": []
    },
    {
      "cell_type": "markdown",
      "metadata": {
        "id": "TUuHRMa0q2II"
      },
      "source": [
        "## Common functions to operate on NumPy arrays"
      ]
    },
    {
      "cell_type": "code",
      "metadata": {
        "id": "yLsAvlyKq2IJ"
      },
      "source": [
        "array_3x3 = np.array([[1, 2, 3], [4, 5, 6], [7, 8, 9]])\n",
        "array_3x3"
      ],
      "execution_count": null,
      "outputs": []
    },
    {
      "cell_type": "markdown",
      "metadata": {
        "id": "1v8WQxyCq2IJ"
      },
      "source": [
        "Check the shape of the array `array_3x3`."
      ]
    },
    {
      "cell_type": "code",
      "metadata": {
        "id": "6bMR5MbVq2IK"
      },
      "source": [
        "array_3x3.shape"
      ],
      "execution_count": null,
      "outputs": []
    },
    {
      "cell_type": "markdown",
      "metadata": {
        "id": "r414qus7q2IK"
      },
      "source": [
        "Flatten `array_3x3`. Flatten will reduce any array of any dimensions into a 1-dimension array."
      ]
    },
    {
      "cell_type": "code",
      "metadata": {
        "id": "F-X7-8HPq2IK"
      },
      "source": [
        "flattened_arr = array_3x3.ravel()"
      ],
      "execution_count": null,
      "outputs": []
    },
    {
      "cell_type": "code",
      "metadata": {
        "id": "h_5GOp-mq2IK"
      },
      "source": [
        "flattened_arr"
      ],
      "execution_count": null,
      "outputs": []
    },
    {
      "cell_type": "code",
      "metadata": {
        "id": "740ibxGWq2IL"
      },
      "source": [
        "flattened_arr.shape"
      ],
      "execution_count": null,
      "outputs": []
    },
    {
      "cell_type": "markdown",
      "metadata": {
        "id": "1g8lM-vuq2IL"
      },
      "source": [
        "**Use the `.copy()` method to clone the matrix instead of doing a reference.**"
      ]
    },
    {
      "cell_type": "code",
      "metadata": {
        "scrolled": true,
        "id": "K_3jQHxvq2IM"
      },
      "source": [
        "matrixA = np.array([[1, 2, 3], [4, 5, 6], [7, 8, 9]]) \n",
        "matrixA"
      ],
      "execution_count": null,
      "outputs": []
    },
    {
      "cell_type": "markdown",
      "metadata": {
        "id": "xFVkfpKdq2IM"
      },
      "source": [
        "`matrixB` is a reference to `matrixA`. `matrixC` is a copy of `matrixA`."
      ]
    },
    {
      "cell_type": "code",
      "metadata": {
        "scrolled": true,
        "id": "eQh-Ok7iq2IM"
      },
      "source": [
        "matrixB = matrixA \n",
        "matrixB"
      ],
      "execution_count": null,
      "outputs": []
    },
    {
      "cell_type": "code",
      "metadata": {
        "id": "R37Kl4fCq2IN"
      },
      "source": [
        "matrixC = np.copy(matrixA)"
      ],
      "execution_count": null,
      "outputs": []
    },
    {
      "cell_type": "code",
      "metadata": {
        "id": "7hNSuiUyq2IN"
      },
      "source": [
        "matrixC"
      ],
      "execution_count": null,
      "outputs": []
    },
    {
      "cell_type": "code",
      "metadata": {
        "id": "kzNv6Egvq2IN"
      },
      "source": [
        "matrixA[0] = [99, 99, 99]"
      ],
      "execution_count": null,
      "outputs": []
    },
    {
      "cell_type": "code",
      "metadata": {
        "id": "KORNWcIeq2IN"
      },
      "source": [
        "matrixA"
      ],
      "execution_count": null,
      "outputs": []
    },
    {
      "cell_type": "code",
      "metadata": {
        "id": "KFtjuewWq2IO"
      },
      "source": [
        "matrixB"
      ],
      "execution_count": null,
      "outputs": []
    },
    {
      "cell_type": "code",
      "metadata": {
        "id": "-uEdYoQoq2IO"
      },
      "source": [
        "matrixC"
      ],
      "execution_count": null,
      "outputs": []
    },
    {
      "cell_type": "markdown",
      "metadata": {
        "id": "351vNy61q2IO"
      },
      "source": [
        "Note that when we modify `matrixA`, `matrixB` changes, but not `matrixC`."
      ]
    },
    {
      "cell_type": "markdown",
      "metadata": {
        "id": "VQzeNduyq2IO"
      },
      "source": [
        "## Array Manipulation"
      ]
    },
    {
      "cell_type": "markdown",
      "metadata": {
        "id": "c00P7TTeq2IP"
      },
      "source": [
        "**Perform vertical stack for 2 matrices using `numpy.vstack`.**"
      ]
    },
    {
      "cell_type": "code",
      "metadata": {
        "scrolled": true,
        "id": "yDNgnTNFq2IP"
      },
      "source": [
        "matrixA = np.zeros((3, 3))\n",
        "matrixA"
      ],
      "execution_count": null,
      "outputs": []
    },
    {
      "cell_type": "code",
      "metadata": {
        "id": "MJPzLkWMq2IP"
      },
      "source": [
        "matrixB = np.ones((3, 3))\n",
        "matrixB"
      ],
      "execution_count": null,
      "outputs": []
    },
    {
      "cell_type": "code",
      "metadata": {
        "id": "NPjXosEjq2IQ"
      },
      "source": [
        "vstack_matrix = np.vstack((matrixA, matrixB))\n",
        "vstack_matrix"
      ],
      "execution_count": null,
      "outputs": []
    },
    {
      "cell_type": "code",
      "metadata": {
        "id": "CLjsCiv7q2IQ"
      },
      "source": [
        "vstack_matrix.shape"
      ],
      "execution_count": null,
      "outputs": []
    },
    {
      "cell_type": "markdown",
      "metadata": {
        "id": "BDCW6M7hq2IQ"
      },
      "source": [
        "**Perform horizontal stack for 2 matrices using `numpy.hstack`.**"
      ]
    },
    {
      "cell_type": "code",
      "metadata": {
        "id": "pUyPOoflq2IQ"
      },
      "source": [
        "hstack_matrix = np.hstack((matrixA, matrixB))\n",
        "hstack_matrix"
      ],
      "execution_count": null,
      "outputs": []
    },
    {
      "cell_type": "code",
      "metadata": {
        "id": "-53IYCw1q2IR"
      },
      "source": [
        "hstack_matrix.shape"
      ],
      "execution_count": null,
      "outputs": []
    },
    {
      "cell_type": "markdown",
      "metadata": {
        "id": "6fNvaimVq2IR"
      },
      "source": [
        "**Perform depth stack for 2 matrices using `numpy.dstack`.**"
      ]
    },
    {
      "cell_type": "code",
      "metadata": {
        "id": "U0yfv10Yq2IR"
      },
      "source": [
        "matrixA = np.array([[1, 2, 3], [4, 5, 6], [7, 8, 9]])\n",
        "matrixB = np.array([[10, 20, 30], [40, 50, 60], [70, 80, 90]])"
      ],
      "execution_count": null,
      "outputs": []
    },
    {
      "cell_type": "code",
      "metadata": {
        "id": "NrzhqgUSq2IS"
      },
      "source": [
        "dstack_matrix = np.dstack((matrixA, matrixB))\n",
        "dstack_matrix"
      ],
      "execution_count": null,
      "outputs": []
    },
    {
      "cell_type": "code",
      "metadata": {
        "scrolled": true,
        "id": "Sphe15Taq2IS"
      },
      "source": [
        "dstack_matrix.shape"
      ],
      "execution_count": null,
      "outputs": []
    },
    {
      "cell_type": "markdown",
      "metadata": {
        "id": "PPRkt8nuq2IS"
      },
      "source": [
        "**Transpose a matrix.**"
      ]
    },
    {
      "cell_type": "code",
      "metadata": {
        "id": "VHD3mOO5q2IS"
      },
      "source": [
        "matrixC = np.transpose(matrixA)\n",
        "matrixC"
      ],
      "execution_count": null,
      "outputs": []
    },
    {
      "cell_type": "markdown",
      "metadata": {
        "id": "MlJpKogYq2IT"
      },
      "source": [
        "**Reshape a matrix into the assigned row x column.**"
      ]
    },
    {
      "cell_type": "code",
      "metadata": {
        "scrolled": true,
        "id": "GWQe0WQrq2IT"
      },
      "source": [
        "matrixC = matrixA.reshape(1, 9)\n",
        "matrixC"
      ],
      "execution_count": null,
      "outputs": []
    },
    {
      "cell_type": "markdown",
      "metadata": {
        "id": "s2i93KKvq2IT"
      },
      "source": [
        "**Split a matrix vertically at the n-th index to 2 equal-sized subarrays.**"
      ]
    },
    {
      "cell_type": "code",
      "metadata": {
        "scrolled": true,
        "id": "qr4ZOAuMq2IU"
      },
      "source": [
        "matrixA = np.array([[0, 0, 0], [0, 0, 0], [1, 1, 1], [1, 1, 1]])\n",
        "matrixA"
      ],
      "execution_count": null,
      "outputs": []
    },
    {
      "cell_type": "code",
      "metadata": {
        "id": "E-06lPc3q2IU"
      },
      "source": [
        "matrixC = np.vsplit(matrixA, 2)\n",
        "matrixC"
      ],
      "execution_count": null,
      "outputs": []
    },
    {
      "cell_type": "markdown",
      "metadata": {
        "id": "lNBnru0vq2IU"
      },
      "source": [
        "**Split a matrix horizontally into 3 equal-sized subarrays.**"
      ]
    },
    {
      "cell_type": "code",
      "metadata": {
        "id": "7G7jybIvq2IV"
      },
      "source": [
        "matrixA = np.array([[0, 0, 0], [0, 0, 0], [1, 1, 1], [1, 1, 1]])\n",
        "matrixA"
      ],
      "execution_count": null,
      "outputs": []
    },
    {
      "cell_type": "code",
      "metadata": {
        "id": "amguXVfAq2IV"
      },
      "source": [
        "matrixC = np.hsplit(matrixA, 3)\n",
        "matrixC"
      ],
      "execution_count": null,
      "outputs": []
    },
    {
      "cell_type": "markdown",
      "metadata": {
        "id": "tpt5c17Vq2IV"
      },
      "source": [
        "## Exercise"
      ]
    },
    {
      "cell_type": "markdown",
      "metadata": {
        "id": "ZaNOoBsiq2IW"
      },
      "source": [
        "Create a $5\\times 3$ matrix populated with random samples from a uniform distribution and name it **`mat_1`**.\n",
        "\n",
        "*hint: `numpy.random.rand`*"
      ]
    },
    {
      "cell_type": "code",
      "metadata": {
        "id": "-Bseo-keq2IW"
      },
      "source": [
        ""
      ],
      "execution_count": null,
      "outputs": []
    },
    {
      "cell_type": "markdown",
      "metadata": {
        "id": "0EF4owflq2IW"
      },
      "source": [
        "Create a matrix **`mat_2`** of any size. The matrix should be eligible to perform matrix multiplication with `mat_1`."
      ]
    },
    {
      "cell_type": "code",
      "metadata": {
        "id": "K3cKMBVTq2IX"
      },
      "source": [
        ""
      ],
      "execution_count": null,
      "outputs": []
    },
    {
      "cell_type": "markdown",
      "metadata": {
        "id": "Fojc9Z-nq2IX"
      },
      "source": [
        "Perform matrix multiplication of `mat_1` and `mat_2` and store it in variable **`mat_3`**."
      ]
    },
    {
      "cell_type": "code",
      "metadata": {
        "id": "HwV7LKbKq2IX"
      },
      "source": [
        ""
      ],
      "execution_count": null,
      "outputs": []
    },
    {
      "cell_type": "markdown",
      "metadata": {
        "id": "E0Be-ITxq2IX"
      },
      "source": [
        "Create another matrix that has the same number of columns as `mat_3` and name it **`mat_4`**"
      ]
    },
    {
      "cell_type": "code",
      "metadata": {
        "id": "bVFhsSbtq2IY"
      },
      "source": [
        ""
      ],
      "execution_count": null,
      "outputs": []
    },
    {
      "cell_type": "markdown",
      "metadata": {
        "id": "tJhjHFA8q2IY"
      },
      "source": [
        "Stack matrix `mat_3` and `mat_4` vertically. Name the result **`mat_5`**."
      ]
    },
    {
      "cell_type": "code",
      "metadata": {
        "id": "xL0XQmWoq2IY"
      },
      "source": [
        ""
      ],
      "execution_count": null,
      "outputs": []
    },
    {
      "cell_type": "markdown",
      "metadata": {
        "id": "eXDINhiVq2IY"
      },
      "source": [
        "Transpose `mat_5` and name the transposed matrix **`mat_6`**."
      ]
    },
    {
      "cell_type": "code",
      "metadata": {
        "id": "BWlRdP8-q2IZ"
      },
      "source": [
        ""
      ],
      "execution_count": null,
      "outputs": []
    },
    {
      "cell_type": "markdown",
      "metadata": {
        "id": "zMoht2uYq2IZ"
      },
      "source": [
        "Check the shape of **`mat_6`**."
      ]
    },
    {
      "cell_type": "code",
      "metadata": {
        "id": "Oj9296ELq2IZ"
      },
      "source": [
        ""
      ],
      "execution_count": null,
      "outputs": []
    },
    {
      "cell_type": "markdown",
      "metadata": {
        "id": "zNfzsCUEq2IZ"
      },
      "source": [
        "Vertically split **`mat_6`** into two subarrays."
      ]
    },
    {
      "cell_type": "code",
      "metadata": {
        "id": "QynTymmvq2Ia"
      },
      "source": [
        ""
      ],
      "execution_count": null,
      "outputs": []
    }
  ]
}